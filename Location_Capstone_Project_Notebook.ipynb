{
  "nbformat": 4,
  "nbformat_minor": 0,
  "metadata": {
    "colab": {
      "name": "Location Capstone Project Notebook.ipynb",
      "provenance": [],
      "authorship_tag": "ABX9TyMurfZ2U/tm7KTXapq0vr0U",
      "include_colab_link": true
    },
    "kernelspec": {
      "name": "python3",
      "display_name": "Python 3"
    },
    "language_info": {
      "name": "python"
    }
  },
  "cells": [
    {
      "cell_type": "markdown",
      "metadata": {
        "id": "view-in-github",
        "colab_type": "text"
      },
      "source": [
        "<a href=\"https://colab.research.google.com/github/Missmisa333/TensorFlow/blob/master/Location_Capstone_Project_Notebook.ipynb\" target=\"_parent\"><img src=\"https://colab.research.google.com/assets/colab-badge.svg\" alt=\"Open In Colab\"/></a>"
      ]
    },
    {
      "cell_type": "markdown",
      "metadata": {
        "id": "Yz07PqgNmXWb"
      },
      "source": [
        "#Topic\n",
        "\n",
        "Using the following indicators, compare and give scores to different neighborhoods to decide which neighborhood would be the best fit for the user. Also, provide an explanation to the user to why this neighborhood is popular or would be a great fit for them. \n",
        "\n",
        "* proximity to job\n",
        "* gourmet fast food joints \n",
        "* pharmacies\n",
        "* parks \n",
        "* grad schools\n",
        "\n",
        "\n",
        "\n",
        "### Steps: \n",
        "1. Segment it into different neighborhoods using the geographical coordinates of the center of each neighborhood. \n",
        "2. Using a combination of location data and machine learning, group the neighborhoods into clusters\n",
        "3. Compare nieghborhoods\n",
        "4. Provide insight to why this neighborhood would be a good fit for the user\n"
      ]
    },
    {
      "cell_type": "code",
      "metadata": {
        "id": "QNyqeB2Dn2PS"
      },
      "source": [
        "import pandas as pd\n",
        "import numpy as np\n"
      ],
      "execution_count": 1,
      "outputs": []
    },
    {
      "cell_type": "code",
      "metadata": {
        "colab": {
          "base_uri": "https://localhost:8080/"
        },
        "id": "IHu-h2hnn7jq",
        "outputId": "19a4e7cc-d25a-48ae-b54f-ea7790c977f3"
      },
      "source": [
        "print(\"Hello Capstone Project Course!\")"
      ],
      "execution_count": 2,
      "outputs": [
        {
          "output_type": "stream",
          "text": [
            "Hello Capstone Project Course!\n"
          ],
          "name": "stdout"
        }
      ]
    }
  ]
}